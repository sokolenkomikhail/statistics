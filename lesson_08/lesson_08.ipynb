{
 "cells": [
  {
   "cell_type": "code",
   "execution_count": 1,
   "metadata": {},
   "outputs": [],
   "source": [
    "import numpy as np\n",
    "from scipy import stats"
   ]
  },
  {
   "cell_type": "markdown",
   "metadata": {},
   "source": [
    "### Провести дисперсионный анализ для определения того, есть ли различия среднего роста среди взрослых футболистов, хоккеистов и штангистов. Даны значения роста в трех группах случайно выбранных спортсменов: Футболисты: 173, 175, 180, 178, 177, 185, 183, 182. Хоккеисты: 177, 179, 180, 188, 177, 172, 171, 184, 180. Штангисты: 172, 173, 169, 177, 166, 180, 178, 177, 172, 166, 170."
   ]
  },
  {
   "cell_type": "code",
   "execution_count": 2,
   "metadata": {},
   "outputs": [],
   "source": [
    "# футболисты\n",
    "y1 = np.array([173, 175, 180, 178, 177, 185, 183, 182])\n",
    "# хоккеисты\n",
    "y2 = np.array([177, 179, 180, 188, 177, 172, 171, 184, 180])\n",
    "# штангисты\n",
    "y3 = np.array([172, 173, 169, 177, 166, 180, 178, 177, 172, 166, 170])"
   ]
  },
  {
   "cell_type": "markdown",
   "metadata": {},
   "source": [
    "Нулевая гипотеза $H_0$ - среди взрослых футболлистов, хоккеистов и штангистов нет статистически значимых различий в среднем росте\n",
    "\n",
    "Альтернативная гипотеза $H_1$ - среди взрослых футболлистов, хоккеистов и штангистов есть статистически значимые различия в среднем росте"
   ]
  },
  {
   "cell_type": "markdown",
   "metadata": {},
   "source": [
    "Для тестирования гипотезы будет проведен дисперсионный анализ"
   ]
  },
  {
   "cell_type": "code",
   "execution_count": 3,
   "metadata": {},
   "outputs": [
    {
     "data": {
      "text/plain": [
       "(8, 9, 11, 28)"
      ]
     },
     "execution_count": 3,
     "metadata": {},
     "output_type": "execute_result"
    }
   ],
   "source": [
    "k = 3\n",
    "n1 = y1.shape[0]\n",
    "n2 = y2.shape[0]\n",
    "n3 = y3.shape[0]\n",
    "\n",
    "n = n1 + n2 + n3\n",
    "\n",
    "n1, n2, n3, n"
   ]
  },
  {
   "cell_type": "markdown",
   "metadata": {},
   "source": [
    "$$ \\overline{y_i} = \\frac{1}{n_i}\\sum_{j=1}^{n_i}y_{ij} $$"
   ]
  },
  {
   "cell_type": "code",
   "execution_count": 4,
   "metadata": {},
   "outputs": [
    {
     "data": {
      "text/plain": [
       "(179.125, 178.66666666666666, 172.72727272727272)"
      ]
     },
     "execution_count": 4,
     "metadata": {},
     "output_type": "execute_result"
    }
   ],
   "source": [
    "# средние для каждой из групп спортсменов\n",
    "y1_ = np.mean(y1)\n",
    "y2_ = np.mean(y2)\n",
    "y3_ = np.mean(y3)\n",
    "\n",
    "y1_, y2_, y3_"
   ]
  },
  {
   "cell_type": "markdown",
   "metadata": {},
   "source": [
    "$$ \\overline{Y} = \\frac{1}{n}\\sum_{i=1}^{k}\\sum_{j=1}^{n_j}y_{ij} = \\frac{1}{n}\\sum_{i=1}^{k}\\overline{y_i}n_i $$"
   ]
  },
  {
   "cell_type": "code",
   "execution_count": 5,
   "metadata": {},
   "outputs": [
    {
     "data": {
      "text/plain": [
       "176.46428571428572"
      ]
     },
     "execution_count": 5,
     "metadata": {},
     "output_type": "execute_result"
    }
   ],
   "source": [
    "# все значения\n",
    "Y = np.hstack((y1, y2, y3))\n",
    "\n",
    "# среднее по всем значениям\n",
    "Y_ = np.mean(Y)\n",
    "Y_"
   ]
  },
  {
   "cell_type": "markdown",
   "metadata": {},
   "source": [
    "$S^2$ - сумма квадратов отклонений наблюдений от общего среднего \n",
    "\n",
    "(TSS)\n",
    "\n",
    "$$ S^2 = \\sum_{i=1}^{k}\\sum_{j=1}^{n_i}(y_{ij} - \\overline{Y})^2 $$"
   ]
  },
  {
   "cell_type": "code",
   "execution_count": 6,
   "metadata": {},
   "outputs": [
    {
     "data": {
      "text/plain": [
       "830.9642857142854"
      ]
     },
     "execution_count": 6,
     "metadata": {},
     "output_type": "execute_result"
    }
   ],
   "source": [
    "TSS = np.sum((Y - Y_)**2)\n",
    "TSS"
   ]
  },
  {
   "cell_type": "markdown",
   "metadata": {},
   "source": [
    "$ S_{F}^{2} $ - сумма квадратов отклонений средних групповых значений от общего среднего значения $ \\overline{Y} $ \n",
    "\n",
    "\n",
    "(ESS)\n",
    "\n",
    "$$ S_{F}^{2} = \\sum_{i=1}^{k}(\\overline{y_{i}} - \\overline{Y})^{2}n_{i} $$"
   ]
  },
  {
   "cell_type": "code",
   "execution_count": 7,
   "metadata": {},
   "outputs": [
    {
     "data": {
      "text/plain": [
       "253.9074675324678"
      ]
     },
     "execution_count": 7,
     "metadata": {},
     "output_type": "execute_result"
    }
   ],
   "source": [
    "ESS = (((y1_ - Y_)**2)*n1) + (((y2_ - Y_)**2)*n2) + (((y3_ - Y_)**2)*n3)\n",
    "ESS"
   ]
  },
  {
   "cell_type": "markdown",
   "metadata": {},
   "source": [
    "$ S_{ост}^{2} $ - остаточная сумма квадратов отклонений\n",
    "\n",
    "(RSS)\n",
    "\n",
    "$$ S_{ост}^{2} = \\sum_{i=1}^{k}\\sum_{j=1}^{n_{i}}(y_{ij} - \\overline{y_{i}})^2 $$"
   ]
  },
  {
   "cell_type": "code",
   "execution_count": 8,
   "metadata": {},
   "outputs": [
    {
     "data": {
      "text/plain": [
       "577.0568181818182"
      ]
     },
     "execution_count": 8,
     "metadata": {},
     "output_type": "execute_result"
    }
   ],
   "source": [
    "RSS = np.sum((y1 - y1_)**2) + np.sum((y2 - y2_)**2) + np.sum((y3 - y3_)**2)\n",
    "RSS"
   ]
  },
  {
   "cell_type": "markdown",
   "metadata": {},
   "source": [
    "$$ S^2 = S_{F}^{2} + S_{ост}^{2} $$\n",
    "\n",
    "$$ TSS = ESS + RSS $$"
   ]
  },
  {
   "cell_type": "code",
   "execution_count": 9,
   "metadata": {},
   "outputs": [
    {
     "data": {
      "text/plain": [
       "(830.9642857142854, 830.964285714286)"
      ]
     },
     "execution_count": 9,
     "metadata": {},
     "output_type": "execute_result"
    }
   ],
   "source": [
    "# проверка \n",
    "TSS, ESS + RSS"
   ]
  },
  {
   "cell_type": "markdown",
   "metadata": {},
   "source": [
    "Факторная дисперсия\n",
    "\n",
    "$$ \\sigma_{F}^{2} = \\frac{S_{F}^{2}}{k - 1} = \\frac{1}{k - 1}\\sum_{i=1}^{k}(\\overline{y_{i}} - \\overline{Y})^2n_{i} $$\n",
    "\n",
    "$$ MS_{B} = \\frac{ESS}{k - 1} $$"
   ]
  },
  {
   "cell_type": "code",
   "execution_count": 10,
   "metadata": {},
   "outputs": [
    {
     "data": {
      "text/plain": [
       "126.9537337662339"
      ]
     },
     "execution_count": 10,
     "metadata": {},
     "output_type": "execute_result"
    }
   ],
   "source": [
    "MSb = ESS/(k - 1)\n",
    "MSb"
   ]
  },
  {
   "cell_type": "markdown",
   "metadata": {},
   "source": [
    "Остаточная дисперсия\n",
    "\n",
    "$$ \\sigma_{ост}^{2} = \\frac{S_{ост}^{2}}{n - k} = \\frac{1}{n - k}\\sum_{i=1}^{k}\\sum_{j=1}^{n_{i}}(y_{ij} - \\overline{y_{i}})^2 $$\n",
    "\n",
    "$$ MSw = \\frac{RSS}{n - k} $$"
   ]
  },
  {
   "cell_type": "code",
   "execution_count": 11,
   "metadata": {},
   "outputs": [
    {
     "data": {
      "text/plain": [
       "23.08227272727273"
      ]
     },
     "execution_count": 11,
     "metadata": {},
     "output_type": "execute_result"
    }
   ],
   "source": [
    "MSw = RSS/(n - k)\n",
    "MSw"
   ]
  },
  {
   "cell_type": "markdown",
   "metadata": {},
   "source": [
    "$$ F_{H} = \\frac{\\sigma_{F}^{2}}{\\sigma_{ост}^{2}} $$\n",
    "\n",
    "$$ F_{H} = \\frac{MSb}{MSw} $$"
   ]
  },
  {
   "cell_type": "code",
   "execution_count": 12,
   "metadata": {},
   "outputs": [
    {
     "data": {
      "text/plain": [
       "5.500053450812598"
      ]
     },
     "execution_count": 12,
     "metadata": {},
     "output_type": "execute_result"
    }
   ],
   "source": [
    "F_H = MSb/MSw\n",
    "F_H"
   ]
  },
  {
   "cell_type": "markdown",
   "metadata": {},
   "source": [
    "Проверка полученного значения методом stats.f_oneway из библиотеки scipy"
   ]
  },
  {
   "cell_type": "code",
   "execution_count": 13,
   "metadata": {},
   "outputs": [
    {
     "data": {
      "text/plain": [
       "F_onewayResult(statistic=5.500053450812596, pvalue=0.010482206918698694)"
      ]
     },
     "execution_count": 13,
     "metadata": {},
     "output_type": "execute_result"
    }
   ],
   "source": [
    "stats.f_oneway(y1, y2, y3)"
   ]
  },
  {
   "cell_type": "code",
   "execution_count": 14,
   "metadata": {},
   "outputs": [
    {
     "data": {
      "text/plain": [
       "(2, 25)"
      ]
     },
     "execution_count": 14,
     "metadata": {},
     "output_type": "execute_result"
    }
   ],
   "source": [
    "k - 1, n - k"
   ]
  },
  {
   "cell_type": "markdown",
   "metadata": {},
   "source": [
    "Найдем значение $ F_{крит} $ в таблице критических точек распределения Фишера-Снедекора для заданного уровня значимости $ \\alpha = 0.05 $"
   ]
  },
  {
   "cell_type": "code",
   "execution_count": 15,
   "metadata": {},
   "outputs": [
    {
     "data": {
      "text/plain": [
       "(False, False)"
      ]
     },
     "execution_count": 15,
     "metadata": {},
     "output_type": "execute_result"
    }
   ],
   "source": [
    "alpha = 0.05\n",
    "F_crit = 3.38\n",
    "\n",
    "F_crit > F_H, stats.f_oneway(y1, y2, y3)[1] > alpha"
   ]
  },
  {
   "cell_type": "markdown",
   "metadata": {},
   "source": [
    "### Вывод:"
   ]
  },
  {
   "cell_type": "markdown",
   "metadata": {},
   "source": [
    "$F_H > F_{крит}$ => Различия среднего роста между группами статистически значимое на уровне значимости $\\alpha = 0.05$. Нулевая гипотеза $H_0$ отклоняется"
   ]
  }
 ],
 "metadata": {
  "kernelspec": {
   "display_name": "Python 3",
   "language": "python",
   "name": "python3"
  },
  "language_info": {
   "codemirror_mode": {
    "name": "ipython",
    "version": 3
   },
   "file_extension": ".py",
   "mimetype": "text/x-python",
   "name": "python",
   "nbconvert_exporter": "python",
   "pygments_lexer": "ipython3",
   "version": "3.8.2"
  }
 },
 "nbformat": 4,
 "nbformat_minor": 4
}
