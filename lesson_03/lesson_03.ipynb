{
 "cells": [
  {
   "cell_type": "code",
   "execution_count": 1,
   "metadata": {},
   "outputs": [],
   "source": [
    "import numpy as np\n",
    "from math import factorial\n",
    "\n",
    "\n",
    "def combinations(n, k):\n",
    "    return factorial(n)/(factorial(k) * factorial(n - k))"
   ]
  },
  {
   "cell_type": "markdown",
   "metadata": {},
   "source": [
    "### 1. Даны значения зарплат из выборки выпускников: 100, 80, 75, 77, 89, 33, 45, 25, 65, 17, 30, 24, 57, 55, 70, 75, 65, 84, 90, 150. Посчитать (желательно без использования статистических методов наподобие std, var, mean) среднее арифметическое, среднее квадратичное отклонение, смещенную и несмещенную оценки дисперсий для данной выборки."
   ]
  },
  {
   "cell_type": "code",
   "execution_count": 2,
   "metadata": {},
   "outputs": [],
   "source": [
    "a = np.array([100, 80, 75, 77, 89, 33, 45, 25, 65, 17, 30, 24, 57, 55, 70, 75, 65, 84, 90, 150])\n",
    "\n",
    "n = a.shape[0]"
   ]
  },
  {
   "cell_type": "markdown",
   "metadata": {},
   "source": [
    "Среднее арифметическое (оценка математического ожидания):"
   ]
  },
  {
   "cell_type": "code",
   "execution_count": 3,
   "metadata": {},
   "outputs": [
    {
     "data": {
      "text/plain": [
       "65.3"
      ]
     },
     "execution_count": 3,
     "metadata": {},
     "output_type": "execute_result"
    }
   ],
   "source": [
    "X = np.sum(a)/n\n",
    "\n",
    "X"
   ]
  },
  {
   "cell_type": "code",
   "execution_count": 4,
   "metadata": {},
   "outputs": [
    {
     "data": {
      "text/plain": [
       "65.3"
      ]
     },
     "execution_count": 4,
     "metadata": {},
     "output_type": "execute_result"
    }
   ],
   "source": [
    "# проверка\n",
    "np.mean(a)"
   ]
  },
  {
   "cell_type": "markdown",
   "metadata": {},
   "source": [
    "Смещенная оценка дисперсии:"
   ]
  },
  {
   "cell_type": "code",
   "execution_count": 5,
   "metadata": {},
   "outputs": [
    {
     "data": {
      "text/plain": [
       "950.11"
      ]
     },
     "execution_count": 5,
     "metadata": {},
     "output_type": "execute_result"
    }
   ],
   "source": [
    "D = np.sum((a - X)**2)/n\n",
    "\n",
    "D"
   ]
  },
  {
   "cell_type": "code",
   "execution_count": 6,
   "metadata": {},
   "outputs": [
    {
     "data": {
      "text/plain": [
       "950.11"
      ]
     },
     "execution_count": 6,
     "metadata": {},
     "output_type": "execute_result"
    }
   ],
   "source": [
    "# проверка\n",
    "np.var(a)"
   ]
  },
  {
   "cell_type": "markdown",
   "metadata": {},
   "source": [
    "Несмещенная оценка дисперсии:"
   ]
  },
  {
   "cell_type": "code",
   "execution_count": 7,
   "metadata": {},
   "outputs": [
    {
     "data": {
      "text/plain": [
       "1000.1157894736842"
      ]
     },
     "execution_count": 7,
     "metadata": {},
     "output_type": "execute_result"
    }
   ],
   "source": [
    "D1 = np.sum((a - X)**2)/(n - 1)\n",
    "\n",
    "D1"
   ]
  },
  {
   "cell_type": "code",
   "execution_count": 8,
   "metadata": {},
   "outputs": [
    {
     "data": {
      "text/plain": [
       "1000.1157894736842"
      ]
     },
     "execution_count": 8,
     "metadata": {},
     "output_type": "execute_result"
    }
   ],
   "source": [
    "# проверка\n",
    "np.var(a, ddof=1)"
   ]
  },
  {
   "cell_type": "markdown",
   "metadata": {},
   "source": [
    "Среднее квадратичное отклонение"
   ]
  },
  {
   "cell_type": "code",
   "execution_count": 9,
   "metadata": {},
   "outputs": [
    {
     "data": {
      "text/plain": [
       "30.823854398825596"
      ]
     },
     "execution_count": 9,
     "metadata": {},
     "output_type": "execute_result"
    }
   ],
   "source": [
    "S = D**(1/2)\n",
    "\n",
    "S"
   ]
  },
  {
   "cell_type": "code",
   "execution_count": 10,
   "metadata": {},
   "outputs": [
    {
     "data": {
      "text/plain": [
       "30.823854398825596"
      ]
     },
     "execution_count": 10,
     "metadata": {},
     "output_type": "execute_result"
    }
   ],
   "source": [
    "# проверка\n",
    "np.std(a)"
   ]
  },
  {
   "cell_type": "markdown",
   "metadata": {},
   "source": [
    "### 2. В первом ящике находится 8 мячей, из которых 5 - белые. Во втором ящике - 12 мячей, из которых 5 белых. Из первого ящика вытаскивают случайным образом два мяча, из второго - 4. Какова вероятность того, что 3 мяча белые?"
   ]
  },
  {
   "cell_type": "markdown",
   "metadata": {},
   "source": [
    "Три мяча будут белыми при следующих событиях:\n",
    "1. Два белых мяча достали из первого ящика, а из второго достали один белый мяч;\n",
    "2. Один белый мяч достали из первого ящика, а из второго достали два белых мяча;\n",
    "3. Три белых мяча достали из второго ящика."
   ]
  },
  {
   "cell_type": "code",
   "execution_count": 11,
   "metadata": {},
   "outputs": [
    {
     "name": "stdout",
     "output_type": "stream",
     "text": [
      "Ответ: 0.3687\n"
     ]
    }
   ],
   "source": [
    "# два белых из первого, один белый из второго\n",
    "p1 = (combinations(5, 2)/combinations(8, 2))*((combinations(5, 1)*combinations(7, 3))/combinations(12, 4))\n",
    "\n",
    "# один белый из первого, два белых из второго\n",
    "p2 = ((combinations(5, 1)*combinations(3, 1))/combinations(8, 2))*((combinations(5, 2)*combinations(7, 2))/combinations(12, 4))\n",
    "\n",
    "# три белых из второго\n",
    "p3 = (combinations(3, 2)/combinations(8, 2))*((combinations(5, 3)*combinations(7, 1))/combinations(12, 4))\n",
    "\n",
    "print('Ответ:', round(p1 + p2 + p3, 4))"
   ]
  },
  {
   "cell_type": "markdown",
   "metadata": {},
   "source": [
    "### 3. На соревновании по биатлону один из трех спортсменов стреляет и попадает в мишень. Вероятность попадания для первого спортсмена равна 0.9, для второго — 0.8, для третьего — 0.6. "
   ]
  },
  {
   "cell_type": "markdown",
   "metadata": {},
   "source": [
    "Согласно теореме Байеса, вероятность истинности гипотезы A, при наступлении события B, равна произведению вероятности наступления события B, при истинности гипотезы A, на вероятность истинности гипотезы A, деленное на полную вероятность события B"
   ]
  },
  {
   "cell_type": "markdown",
   "metadata": {},
   "source": [
    "Для нашей задачи будем рассматривать три гипотезы:\n",
    "1. Выстрел произведен 1-ым спортсменом (гипотеза A);\n",
    "2. Выстрел произведен 2-ым спортсменом (гипотеза B);\n",
    "3. Выстрел произведен 3-им спортсменом (гипотеза C).\n",
    "\n",
    "Вероятности истинности каждой из гипотез равны. \n",
    "Соответственно:"
   ]
  },
  {
   "cell_type": "code",
   "execution_count": 12,
   "metadata": {},
   "outputs": [],
   "source": [
    "PA = PB = PC = 1/3"
   ]
  },
  {
   "cell_type": "markdown",
   "metadata": {},
   "source": [
    "В качестве события будет попадание в мишень (событие D)"
   ]
  },
  {
   "cell_type": "code",
   "execution_count": 13,
   "metadata": {},
   "outputs": [],
   "source": [
    "# вероятность попадания в мишень для первого спортсмена \n",
    "PDA = 0.9\n",
    "\n",
    "# вероятность попадания в мишень для второго спортсмена \n",
    "PDB = 0.8\n",
    "\n",
    "# вероятность попадания в мишень для третьего спортсмена \n",
    "PDC = 0.6\n",
    "\n",
    "\n",
    "# полная вероятность попадания в мишень\n",
    "PD = PDA*PA + PDB*PB + PDC*PC"
   ]
  },
  {
   "cell_type": "markdown",
   "metadata": {},
   "source": [
    "### Найти вероятность того, что выстрел произведен:"
   ]
  },
  {
   "cell_type": "markdown",
   "metadata": {},
   "source": [
    "### a). первым спортсменом"
   ]
  },
  {
   "cell_type": "code",
   "execution_count": 14,
   "metadata": {},
   "outputs": [
    {
     "name": "stdout",
     "output_type": "stream",
     "text": [
      "Ответ: 0.3913\n"
     ]
    }
   ],
   "source": [
    "PAD = PDA*PA/PD\n",
    "\n",
    "print('Ответ:', round(PAD, 4))"
   ]
  },
  {
   "cell_type": "markdown",
   "metadata": {},
   "source": [
    "### б). вторым спортсменом"
   ]
  },
  {
   "cell_type": "code",
   "execution_count": 15,
   "metadata": {},
   "outputs": [
    {
     "name": "stdout",
     "output_type": "stream",
     "text": [
      "Ответ: 0.3478\n"
     ]
    }
   ],
   "source": [
    "PBD = PDB*PB/PD\n",
    "\n",
    "print('Ответ:', round(PBD, 4))"
   ]
  },
  {
   "cell_type": "markdown",
   "metadata": {},
   "source": [
    "### в). третьим спортсменом."
   ]
  },
  {
   "cell_type": "code",
   "execution_count": 16,
   "metadata": {},
   "outputs": [
    {
     "name": "stdout",
     "output_type": "stream",
     "text": [
      "Ответ: 0.2609\n"
     ]
    }
   ],
   "source": [
    "PCD = PDC*PC/PD\n",
    "\n",
    "print('Ответ:', round(PCD, 4))"
   ]
  },
  {
   "cell_type": "markdown",
   "metadata": {},
   "source": [
    "### 4. В университет на факультеты A и B поступило равное количество студентов, а на факультет C студентов поступило столько же, сколько на A и B вместе. Вероятность того, что студент факультета A сдаст первую сессию, равна 0.8. Для студента факультета B эта вероятность равна 0.7, а для студента факультета C - 0.9. Студент сдал первую сессию. "
   ]
  },
  {
   "cell_type": "markdown",
   "metadata": {},
   "source": [
    "Для данной задачи будут рассмотрены три гипотезы:\n",
    "1. Сессия сдана студентом факультета A;\n",
    "2. Сессия сдана студентом факультета B;\n",
    "3. Сессия сдана студентом факультета C.\n",
    "\n",
    "На факультетах A и B учится равное количество студентов, а на факультете C учится столько же студентов как на A и B вместе взятых. \n",
    "Соответственно:"
   ]
  },
  {
   "cell_type": "code",
   "execution_count": 17,
   "metadata": {},
   "outputs": [],
   "source": [
    "PC = 1/2\n",
    "PA = PB = 1/4"
   ]
  },
  {
   "cell_type": "markdown",
   "metadata": {},
   "source": [
    "В качестве события будет сдача сессии (событие D)"
   ]
  },
  {
   "cell_type": "code",
   "execution_count": 18,
   "metadata": {},
   "outputs": [],
   "source": [
    "# вероятность сдать сессию студентом факультета A\n",
    "PDA = 0.8\n",
    "\n",
    "# вероятность сдать сессию студентом факультета B\n",
    "PDB = 0.7\n",
    "\n",
    "# вероятность сдать сессию студентом факультета C\n",
    "PDC = 0.9\n",
    "\n",
    "\n",
    "# полная вероятность события\n",
    "PD = PDA*PA + PDB*PB + PDC*PC"
   ]
  },
  {
   "cell_type": "markdown",
   "metadata": {},
   "source": [
    "### Какова вероятность, что он учится:"
   ]
  },
  {
   "cell_type": "markdown",
   "metadata": {},
   "source": [
    "### a). на факультете A"
   ]
  },
  {
   "cell_type": "code",
   "execution_count": 19,
   "metadata": {},
   "outputs": [
    {
     "name": "stdout",
     "output_type": "stream",
     "text": [
      "Ответ: 0.2424\n"
     ]
    }
   ],
   "source": [
    "PAD = PDA*PA/PD\n",
    "\n",
    "print('Ответ:', round(PAD, 4))"
   ]
  },
  {
   "cell_type": "markdown",
   "metadata": {},
   "source": [
    "### б). на факультете B"
   ]
  },
  {
   "cell_type": "code",
   "execution_count": 20,
   "metadata": {},
   "outputs": [
    {
     "name": "stdout",
     "output_type": "stream",
     "text": [
      "Ответ: 0.2121\n"
     ]
    }
   ],
   "source": [
    "PBD = PDB*PB/PD\n",
    "\n",
    "print('Ответ:', round(PBD, 4))"
   ]
  },
  {
   "cell_type": "markdown",
   "metadata": {},
   "source": [
    "### в). на факультете C"
   ]
  },
  {
   "cell_type": "code",
   "execution_count": 21,
   "metadata": {},
   "outputs": [
    {
     "name": "stdout",
     "output_type": "stream",
     "text": [
      "Ответ: 0.5455\n"
     ]
    }
   ],
   "source": [
    "PCD = PDC*PC/PD\n",
    "\n",
    "print('Ответ:', round(PCD, 4))"
   ]
  },
  {
   "cell_type": "markdown",
   "metadata": {},
   "source": [
    "### 5. Устройство состоит из трех деталей. Для первой детали вероятность выйти из строя в первый месяц равна 0.1, для второй - 0.2, для третьей - 0.25."
   ]
  },
  {
   "cell_type": "code",
   "execution_count": 22,
   "metadata": {},
   "outputs": [],
   "source": [
    "# вероятность выхода из строя первой детали\n",
    "p1 = 0.1\n",
    "\n",
    "# вероятность выхода из строя второй детали\n",
    "p2 = 0.2\n",
    "\n",
    "# вероятность выхода из строя третьей детали\n",
    "p3 = 0.25"
   ]
  },
  {
   "cell_type": "markdown",
   "metadata": {},
   "source": [
    "### Какова вероятность того, что в первый месяц выйдут из строя:"
   ]
  },
  {
   "cell_type": "markdown",
   "metadata": {},
   "source": [
    "### а). все детали"
   ]
  },
  {
   "cell_type": "code",
   "execution_count": 23,
   "metadata": {},
   "outputs": [
    {
     "name": "stdout",
     "output_type": "stream",
     "text": [
      "Ответ: 0.005\n"
     ]
    }
   ],
   "source": [
    "print('Ответ:', round(p1*p2*p3, 4))"
   ]
  },
  {
   "cell_type": "markdown",
   "metadata": {},
   "source": [
    "### б). только две детали"
   ]
  },
  {
   "cell_type": "markdown",
   "metadata": {},
   "source": [
    "Только две детали выйдут из строя при следующих событиях:\n",
    "1. Первая и вторая деталь вышли из строя, третья не вышла из строя;\n",
    "2. Первая и третья деталь вышли из строя, вторая не вышла из строя;\n",
    "3. Вторая и третья деталь вышли из строя, первая не вышла из строя."
   ]
  },
  {
   "cell_type": "code",
   "execution_count": 24,
   "metadata": {},
   "outputs": [
    {
     "name": "stdout",
     "output_type": "stream",
     "text": [
      "Ответ: 0.08\n"
     ]
    }
   ],
   "source": [
    "# первая и вторая деталь\n",
    "p12 = p1 * p2 * (1 - p3)\n",
    "\n",
    "# первая и третья деталь\n",
    "p13 = p1 * (1 - p2) * p3\n",
    "\n",
    "# вторая и третья деталь \n",
    "p23 = (1 - p1) * p2 * p3\n",
    "\n",
    "print('Ответ:', round(p12 + p13 + p23, 4))"
   ]
  },
  {
   "cell_type": "markdown",
   "metadata": {},
   "source": [
    "### в). хотя бы одна деталь"
   ]
  },
  {
   "cell_type": "code",
   "execution_count": 25,
   "metadata": {},
   "outputs": [
    {
     "name": "stdout",
     "output_type": "stream",
     "text": [
      "Ответ: 0.46\n"
     ]
    }
   ],
   "source": [
    "# вероятность того, что ни одна из деталей не выйдет из строя\n",
    "p = (1 - p1) * (1 - p2) * (1 - p3)\n",
    "\n",
    "print('Ответ:', round(1 - p, 4))"
   ]
  },
  {
   "cell_type": "markdown",
   "metadata": {},
   "source": [
    "### г). от одной до двух деталей"
   ]
  },
  {
   "cell_type": "code",
   "execution_count": 26,
   "metadata": {},
   "outputs": [
    {
     "name": "stdout",
     "output_type": "stream",
     "text": [
      "Ответ: 0.455\n"
     ]
    }
   ],
   "source": [
    "# разность между вероятностями выхода из строя хотя бы одной детали (1 и больше) \n",
    "# и выхода из строя всех деталей (3)\n",
    "\n",
    "print('Ответ:', round((1 - p) - (p1*p2*p3), 4))"
   ]
  }
 ],
 "metadata": {
  "kernelspec": {
   "display_name": "Python 3",
   "language": "python",
   "name": "python3"
  },
  "language_info": {
   "codemirror_mode": {
    "name": "ipython",
    "version": 3
   },
   "file_extension": ".py",
   "mimetype": "text/x-python",
   "name": "python",
   "nbconvert_exporter": "python",
   "pygments_lexer": "ipython3",
   "version": "3.8.2"
  }
 },
 "nbformat": 4,
 "nbformat_minor": 4
}
