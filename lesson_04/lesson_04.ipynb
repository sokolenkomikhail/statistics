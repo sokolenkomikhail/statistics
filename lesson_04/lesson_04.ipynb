{
 "cells": [
  {
   "cell_type": "markdown",
   "metadata": {},
   "source": [
    "### 1. Случайная непрерывная величина A имеет равномерное распределение на промежутке (200, 800]. Найдите ее среднее значение и дисперсию."
   ]
  },
  {
   "cell_type": "code",
   "execution_count": 21,
   "metadata": {},
   "outputs": [
    {
     "name": "stdout",
     "output_type": "stream",
     "text": [
      "Ответ: \n",
      "M(A) = 500.0; \n",
      "D(A) = 30000.0\n"
     ]
    }
   ],
   "source": [
    "a = 200\n",
    "b = 800\n",
    "MA = (a + b)/2\n",
    "DA = ((b - a)**2)/12\n",
    "\n",
    "print(f'Ответ: \\nM(A) = {MA}; \\nD(A) = {DA}')"
   ]
  },
  {
   "cell_type": "markdown",
   "metadata": {},
   "source": [
    "### 2. О случайной непрерывной равномерно распределенной величине B известно, что ее дисперсия равна 0.2. Можно ли найти правую границу величины B и ее среднее значение зная, что левая граница равна 0.5? Если да, найдите ее."
   ]
  },
  {
   "cell_type": "code",
   "execution_count": 22,
   "metadata": {},
   "outputs": [],
   "source": [
    "DB = 0.2\n",
    "a = 0.5"
   ]
  },
  {
   "cell_type": "markdown",
   "metadata": {},
   "source": [
    "Дисперсия непрерывной равномерно распределенной величины вычисляется по формуле:\n",
    "$$D(B) = \\frac{(b - a)^2}{12}$$"
   ]
  },
  {
   "cell_type": "markdown",
   "metadata": {},
   "source": [
    "Дисперсия нам известна и равняется 0.2"
   ]
  },
  {
   "cell_type": "markdown",
   "metadata": {},
   "source": [
    "$$ \\frac{(b - a)^2}{12} = 0.2 $$\n",
    "\n",
    "$$ (b - a)^2 = 2.4 $$\n",
    "\n",
    "Раскрываем скобки:\n",
    "$$ b^2 - 2ba + a^2 = 2.4 $$\n",
    "\n",
    "Подставляем известное нам значение (a):\n",
    "$$ b^2 - b + 0.25 = 2.4 $$\n",
    "\n",
    "Во избежание путаницы, за b берем x:\n",
    "$$ b = x $$\n",
    "\n",
    "Получаем квадратное уравнение и решаем его:\n",
    "$$ x^2 - x - 2.15 = 0 $$\n",
    "\n",
    "$$ D = b^2 - 4ac $$\n",
    "\n",
    "$$ D = 9.6 $$\n",
    "\n",
    "$$ x_1 = \\frac{-b - \\sqrt{D}}{2a}; x_2 = \\frac{-b + \\sqrt{D}}{2a} $$"
   ]
  },
  {
   "cell_type": "code",
   "execution_count": 23,
   "metadata": {},
   "outputs": [
    {
     "name": "stdout",
     "output_type": "stream",
     "text": [
      "b1 = -1.0492; b2 = 2.0492\n"
     ]
    }
   ],
   "source": [
    "x1 = (1 - 9.6**(1/2))/2\n",
    "b1 = round(x1, 4)\n",
    "\n",
    "x2 = (1 + 9.6**(1/2))/2\n",
    "b2 = round(x2, 4)\n",
    "\n",
    "print(f'b1 = {b1}; b2 = {b2}')"
   ]
  },
  {
   "cell_type": "markdown",
   "metadata": {},
   "source": [
    "Т.к. нам известна ЛЕВАЯ граница, то первый корень (b1) нам не подходит"
   ]
  },
  {
   "cell_type": "code",
   "execution_count": 24,
   "metadata": {},
   "outputs": [
    {
     "name": "stdout",
     "output_type": "stream",
     "text": [
      "Ответ: \n",
      "b = 2.0492; \n",
      "M(B) = 1.2746\n"
     ]
    }
   ],
   "source": [
    "b = b2\n",
    "\n",
    "MB = (a + b)/2\n",
    "\n",
    "print(f'Ответ: \\nb = {b}; \\nM(B) = {MB}')"
   ]
  },
  {
   "cell_type": "markdown",
   "metadata": {},
   "source": [
    "### 3. Непрерывная случайная величина X распределена нормально и задана плотностью распределения \n",
    "$$ f(x) = \\frac{1}{4\\sqrt{2\\pi}}e^{-\\frac{(x+2)^2}{32}} $$"
   ]
  },
  {
   "cell_type": "markdown",
   "metadata": {},
   "source": [
    "Формула плотности вероятностей:\n",
    "$$ f(x) = \\frac{1}{\\sigma\\sqrt{2\\pi}}e^{-\\frac{(x-a)^2}{2\\sigma^2}} $$"
   ]
  },
  {
   "cell_type": "markdown",
   "metadata": {},
   "source": [
    "### Найдите:"
   ]
  },
  {
   "cell_type": "markdown",
   "metadata": {},
   "source": [
    "### а). M(X)"
   ]
  },
  {
   "cell_type": "markdown",
   "metadata": {},
   "source": [
    "В формуле a = M(X), соответственно"
   ]
  },
  {
   "cell_type": "code",
   "execution_count": 27,
   "metadata": {},
   "outputs": [
    {
     "name": "stdout",
     "output_type": "stream",
     "text": [
      "Ответ: M(X) = -2\n"
     ]
    }
   ],
   "source": [
    "MX = -2\n",
    "\n",
    "print(f'Ответ: M(X) = {MX}')"
   ]
  },
  {
   "cell_type": "markdown",
   "metadata": {},
   "source": [
    "### б). D(X)"
   ]
  },
  {
   "cell_type": "markdown",
   "metadata": {},
   "source": [
    "Среднее квадратичное отклонение равно корню из дисперсии, соответственно дисперсия равна среднему квадратичному отклонению, возведенное в квадрат"
   ]
  },
  {
   "cell_type": "code",
   "execution_count": 28,
   "metadata": {},
   "outputs": [
    {
     "name": "stdout",
     "output_type": "stream",
     "text": [
      "Ответ: D(X) = 16\n"
     ]
    }
   ],
   "source": [
    "DX = 4**2\n",
    "\n",
    "print(f'Ответ: D(X) = {DX}')"
   ]
  },
  {
   "cell_type": "markdown",
   "metadata": {},
   "source": [
    "### в). std(X) (среднее квадратичное отклонение)"
   ]
  },
  {
   "cell_type": "code",
   "execution_count": 29,
   "metadata": {},
   "outputs": [
    {
     "name": "stdout",
     "output_type": "stream",
     "text": [
      "Ответ: std(X) = 4\n"
     ]
    }
   ],
   "source": [
    "stdX = 4\n",
    "\n",
    "print(f'Ответ: std(X) = {stdX}')"
   ]
  },
  {
   "cell_type": "markdown",
   "metadata": {},
   "source": [
    "### 4. Рост взрослого населения города X имеет нормальное распределение. Причем, средний рост равен 174 см, а среднее квадратичное отклонение равно 8 см. Какова вероятность того, что случайным образом выбранный взрослый человек имеет рост:"
   ]
  },
  {
   "cell_type": "code",
   "execution_count": 31,
   "metadata": {},
   "outputs": [],
   "source": [
    "MX = 174\n",
    "stdX = 8"
   ]
  },
  {
   "cell_type": "markdown",
   "metadata": {},
   "source": [
    "### а). больше 182 см"
   ]
  },
  {
   "cell_type": "code",
   "execution_count": 32,
   "metadata": {},
   "outputs": [
    {
     "data": {
      "text/plain": [
       "1.0"
      ]
     },
     "execution_count": 32,
     "metadata": {},
     "output_type": "execute_result"
    }
   ],
   "source": [
    "x = 182\n",
    "\n",
    "(x - MX)/stdX"
   ]
  },
  {
   "cell_type": "markdown",
   "metadata": {},
   "source": [
    "По правилу трех сигм:"
   ]
  },
  {
   "cell_type": "markdown",
   "metadata": {},
   "source": [
    "На отрезке от $-\\sigma$ до $+\\sigma$ расположено около 0.68 наблюдений"
   ]
  },
  {
   "cell_type": "code",
   "execution_count": 38,
   "metadata": {},
   "outputs": [
    {
     "name": "stdout",
     "output_type": "stream",
     "text": [
      "Ответ: 0.16\n"
     ]
    }
   ],
   "source": [
    "print('Ответ:', round(1 - 0.68, 4)/2)"
   ]
  },
  {
   "cell_type": "markdown",
   "metadata": {},
   "source": [
    "По таблице Z значений:"
   ]
  },
  {
   "cell_type": "markdown",
   "metadata": {},
   "source": [
    "Меньше $+1 \\sigma$ расположено 0.8413"
   ]
  },
  {
   "cell_type": "code",
   "execution_count": 39,
   "metadata": {},
   "outputs": [
    {
     "name": "stdout",
     "output_type": "stream",
     "text": [
      "Ответ: 0.1587\n"
     ]
    }
   ],
   "source": [
    "print('Ответ:', round(1 - 0.8413, 4))"
   ]
  },
  {
   "cell_type": "markdown",
   "metadata": {},
   "source": [
    "### б). больше 190 см"
   ]
  },
  {
   "cell_type": "code",
   "execution_count": 40,
   "metadata": {},
   "outputs": [
    {
     "data": {
      "text/plain": [
       "2.0"
      ]
     },
     "execution_count": 40,
     "metadata": {},
     "output_type": "execute_result"
    }
   ],
   "source": [
    "x = 190\n",
    "\n",
    "(x - MX)/stdX"
   ]
  },
  {
   "cell_type": "markdown",
   "metadata": {},
   "source": [
    "По правилу трех сигм:"
   ]
  },
  {
   "cell_type": "markdown",
   "metadata": {},
   "source": [
    "На отрезке от $-2\\sigma$ до $+2\\sigma$ расположено около 0.954 наблюдений"
   ]
  },
  {
   "cell_type": "code",
   "execution_count": 41,
   "metadata": {},
   "outputs": [
    {
     "name": "stdout",
     "output_type": "stream",
     "text": [
      "Ответ: 0.023\n"
     ]
    }
   ],
   "source": [
    "print('Ответ:', round(1 - 0.954, 4)/2)"
   ]
  },
  {
   "cell_type": "markdown",
   "metadata": {},
   "source": [
    "По таблице Z значений:"
   ]
  },
  {
   "cell_type": "markdown",
   "metadata": {},
   "source": [
    "Меньше $+2 \\sigma$ расположено 0.9772"
   ]
  },
  {
   "cell_type": "code",
   "execution_count": 42,
   "metadata": {},
   "outputs": [
    {
     "name": "stdout",
     "output_type": "stream",
     "text": [
      "Ответ: 0.0228\n"
     ]
    }
   ],
   "source": [
    "print('Ответ:', round(1 - 0.9772, 4))"
   ]
  },
  {
   "cell_type": "markdown",
   "metadata": {},
   "source": [
    "### в). от 166 см до 190 см"
   ]
  },
  {
   "cell_type": "code",
   "execution_count": 44,
   "metadata": {},
   "outputs": [
    {
     "data": {
      "text/plain": [
       "(-1.0, 2.0)"
      ]
     },
     "execution_count": 44,
     "metadata": {},
     "output_type": "execute_result"
    }
   ],
   "source": [
    "x1 = 166\n",
    "x2 = 190\n",
    "\n",
    "(x1 - MX)/stdX, (x2 - MX)/stdX"
   ]
  },
  {
   "cell_type": "markdown",
   "metadata": {},
   "source": [
    "По правилу трех сигм:"
   ]
  },
  {
   "cell_type": "markdown",
   "metadata": {},
   "source": [
    "На отрезке от $-2\\sigma$ до $+2\\sigma$ расположено около 0.954 наблюдений"
   ]
  },
  {
   "cell_type": "markdown",
   "metadata": {},
   "source": [
    "На отрезке от $-1\\sigma$ до $+1\\sigma$ расположено около 0.68 наблюдений"
   ]
  },
  {
   "cell_type": "markdown",
   "metadata": {},
   "source": [
    "Соответственно на отрезке от $-1\\sigma$ до $+2\\sigma$"
   ]
  },
  {
   "cell_type": "code",
   "execution_count": 48,
   "metadata": {},
   "outputs": [
    {
     "name": "stdout",
     "output_type": "stream",
     "text": [
      "Ответ: 0.817\n"
     ]
    }
   ],
   "source": [
    "print('Ответ:', 0.68 + (0.954 - 0.68)/2)"
   ]
  },
  {
   "cell_type": "markdown",
   "metadata": {},
   "source": [
    "По таблице Z значений:"
   ]
  },
  {
   "cell_type": "markdown",
   "metadata": {},
   "source": [
    "Меньше $+2 \\sigma$ расположено 0.9772"
   ]
  },
  {
   "cell_type": "markdown",
   "metadata": {},
   "source": [
    "Меньше $-1 \\sigma$ расположено 0.1587"
   ]
  },
  {
   "cell_type": "code",
   "execution_count": 49,
   "metadata": {},
   "outputs": [
    {
     "name": "stdout",
     "output_type": "stream",
     "text": [
      "Ответ: 0.8185\n"
     ]
    }
   ],
   "source": [
    "print('Ответ:', round(0.9772 - 0.1587, 4))"
   ]
  },
  {
   "cell_type": "markdown",
   "metadata": {},
   "source": [
    "### г). от 166 см до 182 см"
   ]
  },
  {
   "cell_type": "code",
   "execution_count": 50,
   "metadata": {},
   "outputs": [
    {
     "data": {
      "text/plain": [
       "(-1.0, 1.0)"
      ]
     },
     "execution_count": 50,
     "metadata": {},
     "output_type": "execute_result"
    }
   ],
   "source": [
    "x1 = 166\n",
    "x2 = 182\n",
    "\n",
    "(x1 - MX)/stdX, (x2 - MX)/stdX"
   ]
  },
  {
   "cell_type": "markdown",
   "metadata": {},
   "source": [
    "### д). от 158 см до 190 см"
   ]
  },
  {
   "cell_type": "markdown",
   "metadata": {},
   "source": [
    "По правилу трех сигм:"
   ]
  },
  {
   "cell_type": "markdown",
   "metadata": {},
   "source": [
    "На отрезке от $-1\\sigma$ до $+1\\sigma$ расположено около 0.68 наблюдений"
   ]
  },
  {
   "cell_type": "code",
   "execution_count": 52,
   "metadata": {},
   "outputs": [
    {
     "name": "stdout",
     "output_type": "stream",
     "text": [
      "Ответ: 0.68\n"
     ]
    }
   ],
   "source": [
    "print('Ответ:', 0.68)"
   ]
  },
  {
   "cell_type": "markdown",
   "metadata": {},
   "source": [
    "По таблице Z значений:"
   ]
  },
  {
   "cell_type": "markdown",
   "metadata": {},
   "source": [
    "Меньше $-1 \\sigma$ расположено 0.1587"
   ]
  },
  {
   "cell_type": "code",
   "execution_count": 55,
   "metadata": {},
   "outputs": [
    {
     "name": "stdout",
     "output_type": "stream",
     "text": [
      "Ответ: 0.6826\n"
     ]
    }
   ],
   "source": [
    "print('Ответ:', 1 - (0.1587 * 2))"
   ]
  },
  {
   "cell_type": "markdown",
   "metadata": {},
   "source": [
    "### е). не выше 150 см или не ниже 190 см"
   ]
  },
  {
   "cell_type": "code",
   "execution_count": 56,
   "metadata": {},
   "outputs": [
    {
     "data": {
      "text/plain": [
       "(-3.0, 2.0)"
      ]
     },
     "execution_count": 56,
     "metadata": {},
     "output_type": "execute_result"
    }
   ],
   "source": [
    "x1 = 150\n",
    "x2 = 190\n",
    "\n",
    "(x1 - MX)/stdX, (x2 - MX)/stdX"
   ]
  },
  {
   "cell_type": "markdown",
   "metadata": {},
   "source": [
    "По правилу трех сигм:"
   ]
  },
  {
   "cell_type": "markdown",
   "metadata": {},
   "source": [
    "На отрезке от $-3\\sigma$ до $+3\\sigma$ расположено около 0.9972 наблюдений"
   ]
  },
  {
   "cell_type": "markdown",
   "metadata": {},
   "source": [
    "На отрезке от $-2\\sigma$ до $+2\\sigma$ расположено около 0.954 наблюдений"
   ]
  },
  {
   "cell_type": "code",
   "execution_count": 60,
   "metadata": {},
   "outputs": [
    {
     "name": "stdout",
     "output_type": "stream",
     "text": [
      "Ответ: 0.0244\n"
     ]
    }
   ],
   "source": [
    "# меньше -3\n",
    "p1 = (1 - 0.9972)/2\n",
    "\n",
    "# больше +2\n",
    "p2 = (1 - 0.954)/2\n",
    "\n",
    "print('Ответ:', round(p1 + p2, 4))"
   ]
  },
  {
   "cell_type": "markdown",
   "metadata": {},
   "source": [
    "По таблице Z значений:"
   ]
  },
  {
   "cell_type": "markdown",
   "metadata": {},
   "source": [
    "Меньше $-3 \\sigma$ расположено 0.0013"
   ]
  },
  {
   "cell_type": "markdown",
   "metadata": {},
   "source": [
    "Меньше $+2 \\sigma$ расположено 0.9772"
   ]
  },
  {
   "cell_type": "code",
   "execution_count": 61,
   "metadata": {},
   "outputs": [
    {
     "name": "stdout",
     "output_type": "stream",
     "text": [
      "Ответ: 0.0241\n"
     ]
    }
   ],
   "source": [
    "# меньше -3\n",
    "p1 = 0.0013\n",
    "\n",
    "# больше +2\n",
    "p2 = 1 - 0.9772\n",
    "\n",
    "print('Ответ:', round(p1 + p2, 4))"
   ]
  },
  {
   "cell_type": "markdown",
   "metadata": {},
   "source": [
    "### ё). не выше 150 см или не ниже 198 см"
   ]
  },
  {
   "cell_type": "code",
   "execution_count": 62,
   "metadata": {},
   "outputs": [
    {
     "data": {
      "text/plain": [
       "(-3.0, 3.0)"
      ]
     },
     "execution_count": 62,
     "metadata": {},
     "output_type": "execute_result"
    }
   ],
   "source": [
    "x1 = 150\n",
    "x2 = 198\n",
    "\n",
    "(x1 - MX)/stdX, (x2 - MX)/stdX"
   ]
  },
  {
   "cell_type": "markdown",
   "metadata": {},
   "source": [
    "По правилу трех сигм:"
   ]
  },
  {
   "cell_type": "markdown",
   "metadata": {},
   "source": [
    "На отрезке от $-3\\sigma$ до $+3\\sigma$ расположено около 0.9972 наблюдений"
   ]
  },
  {
   "cell_type": "code",
   "execution_count": 63,
   "metadata": {},
   "outputs": [
    {
     "name": "stdout",
     "output_type": "stream",
     "text": [
      "Ответ: 0.0028\n"
     ]
    }
   ],
   "source": [
    "print('Ответ:', round(1 - 0.9972, 4))"
   ]
  },
  {
   "cell_type": "markdown",
   "metadata": {},
   "source": [
    "По таблице Z значений:"
   ]
  },
  {
   "cell_type": "markdown",
   "metadata": {},
   "source": [
    "Меньше $-3 \\sigma$ расположено 0.0013"
   ]
  },
  {
   "cell_type": "code",
   "execution_count": 64,
   "metadata": {},
   "outputs": [
    {
     "name": "stdout",
     "output_type": "stream",
     "text": [
      "Ответ: 0.0026\n"
     ]
    }
   ],
   "source": [
    "print('Ответ:', round(0.0013 * 2, 4))"
   ]
  },
  {
   "cell_type": "markdown",
   "metadata": {},
   "source": [
    "### ж). ниже 166 см."
   ]
  },
  {
   "cell_type": "code",
   "execution_count": 65,
   "metadata": {},
   "outputs": [
    {
     "data": {
      "text/plain": [
       "-1.0"
      ]
     },
     "execution_count": 65,
     "metadata": {},
     "output_type": "execute_result"
    }
   ],
   "source": [
    "x = 166\n",
    "\n",
    "(x - MX)/stdX"
   ]
  },
  {
   "cell_type": "markdown",
   "metadata": {},
   "source": [
    "По правилу трех сигм:"
   ]
  },
  {
   "cell_type": "markdown",
   "metadata": {},
   "source": [
    "На отрезке от $-1\\sigma$ до $+1\\sigma$ расположено около 0.68 наблюдений"
   ]
  },
  {
   "cell_type": "code",
   "execution_count": 67,
   "metadata": {},
   "outputs": [
    {
     "name": "stdout",
     "output_type": "stream",
     "text": [
      "Ответ: 0.16\n"
     ]
    }
   ],
   "source": [
    "print('Ответ:', round((1 - 0.68)/2, 4))"
   ]
  },
  {
   "cell_type": "markdown",
   "metadata": {},
   "source": [
    "По таблице Z значений:"
   ]
  },
  {
   "cell_type": "markdown",
   "metadata": {},
   "source": [
    "Меньше $-1 \\sigma$ расположено 0.1587"
   ]
  },
  {
   "cell_type": "code",
   "execution_count": 68,
   "metadata": {},
   "outputs": [
    {
     "name": "stdout",
     "output_type": "stream",
     "text": [
      "Ответ: 0.1587\n"
     ]
    }
   ],
   "source": [
    "print('Ответ:', 0.1587)"
   ]
  },
  {
   "cell_type": "markdown",
   "metadata": {},
   "source": [
    "### 5. На сколько сигм (средних квадратичных отклонений) отклоняется рост человека, равный 190 см, от математического ожидания роста в популяции, в которой M(X) = 178 см и D(X) = 25 кв.см?"
   ]
  },
  {
   "cell_type": "code",
   "execution_count": 70,
   "metadata": {},
   "outputs": [
    {
     "name": "stdout",
     "output_type": "stream",
     "text": [
      "Ответ: 2.4\n"
     ]
    }
   ],
   "source": [
    "MX = 178\n",
    "DX = 25\n",
    "x = 190\n",
    "\n",
    "z = (x - MX)/DX**(1/2)\n",
    "\n",
    "print('Ответ:', z)"
   ]
  }
 ],
 "metadata": {
  "kernelspec": {
   "display_name": "Python 3",
   "language": "python",
   "name": "python3"
  },
  "language_info": {
   "codemirror_mode": {
    "name": "ipython",
    "version": 3
   },
   "file_extension": ".py",
   "mimetype": "text/x-python",
   "name": "python",
   "nbconvert_exporter": "python",
   "pygments_lexer": "ipython3",
   "version": "3.8.2"
  }
 },
 "nbformat": 4,
 "nbformat_minor": 4
}
