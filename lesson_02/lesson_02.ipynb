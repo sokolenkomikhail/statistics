{
 "cells": [
  {
   "cell_type": "code",
   "execution_count": 1,
   "metadata": {},
   "outputs": [],
   "source": [
    "from math import factorial, e\n",
    "\n",
    "\n",
    "def combinations(n, k):\n",
    "    return factorial(n)/(factorial(k) * factorial(n - k))\n",
    "\n",
    "# формула Бернулли\n",
    "def bernoulli(n, k, p):\n",
    "    q = 1 - p\n",
    "    return combinations(n, k) * (p**k) * (q**(n - k))\n",
    "\n",
    "# формула Пуассона\n",
    "def poisson(n, m, l):\n",
    "    return ((l**m)/factorial(m)) * e**(-l)"
   ]
  },
  {
   "cell_type": "markdown",
   "metadata": {},
   "source": [
    "### 1. Вероятность того, что стрелок попадет в мишень, выстрелив один раз, равна 0.8. Стрелок выстрелил 100 раз. Найдите вероятность того, что стрелок попадет в цель ровно 85 раз."
   ]
  },
  {
   "cell_type": "code",
   "execution_count": 2,
   "metadata": {},
   "outputs": [
    {
     "name": "stdout",
     "output_type": "stream",
     "text": [
      "Вероятность того, что стрелок попадет ровно 85 раз: 0.048061793700746355\n"
     ]
    }
   ],
   "source": [
    "# количество испытаний (выстрелов)\n",
    "n = 100\n",
    "\n",
    "# число наступления события (попаданий)\n",
    "k = 85\n",
    "\n",
    "# вероятность наступления события в независимых испытаниях (попадания при единичном выстреле)\n",
    "p = 0.8\n",
    "\n",
    "print('Вероятность того, что стрелок попадет ровно 85 раз:', bernoulli(n, k, p))"
   ]
  },
  {
   "cell_type": "markdown",
   "metadata": {},
   "source": [
    "### 2. Вероятность того, что лампочка перегорит в течение первого дня эксплуатации, равна 0.0004. В жилом комплексе после ремонта в один день включили 5000 новых лампочек. "
   ]
  },
  {
   "cell_type": "markdown",
   "metadata": {},
   "source": [
    "Т.к. вероятность наступления события в отдельном испытании довольно мала, а количество испытаний относительно велико, для решения используется формула Пуассона"
   ]
  },
  {
   "cell_type": "code",
   "execution_count": 3,
   "metadata": {},
   "outputs": [],
   "source": [
    "# количество испытаний (включенных лампочек в один день)\n",
    "n = 5000\n",
    "\n",
    "# вероятность наступления события (перегорание лампочки в первый день эксплуатации)\n",
    "p = 0.0004\n",
    "\n",
    "# Лямбда. Среднее количество наступления события за определенную единицу измерений \n",
    "# (перегорание лампочки в первый день эксплуатации)\n",
    "l = p * n"
   ]
  },
  {
   "cell_type": "markdown",
   "metadata": {},
   "source": [
    "### Какова вероятность, что ни одна из них не перегорит в первый день?"
   ]
  },
  {
   "cell_type": "code",
   "execution_count": 4,
   "metadata": {},
   "outputs": [
    {
     "name": "stdout",
     "output_type": "stream",
     "text": [
      "Вероятность, что ни одна не перегорит в первый день: 0.1353352832366127\n"
     ]
    }
   ],
   "source": [
    "m = 0\n",
    "\n",
    "print('Вероятность, что ни одна не перегорит в первый день:', poisson(n, m, l))"
   ]
  },
  {
   "cell_type": "markdown",
   "metadata": {},
   "source": [
    "### Какова вероятность, что перегорят ровно две?"
   ]
  },
  {
   "cell_type": "code",
   "execution_count": 5,
   "metadata": {},
   "outputs": [
    {
     "name": "stdout",
     "output_type": "stream",
     "text": [
      "Вероятность, что перегорят ровно две: 0.2706705664732254\n"
     ]
    }
   ],
   "source": [
    "m = 2\n",
    "\n",
    "print('Вероятность, что перегорят ровно две:', poisson(n, m, l))"
   ]
  },
  {
   "cell_type": "markdown",
   "metadata": {},
   "source": [
    "### 3. Монету подбросили 144 раза. Какова вероятность, что орел выпадет ровно 70 раз?"
   ]
  },
  {
   "cell_type": "code",
   "execution_count": 6,
   "metadata": {},
   "outputs": [
    {
     "name": "stdout",
     "output_type": "stream",
     "text": [
      "Вероятность того, что орел выпадет ровно 70 раз: 0.06281178035144776\n"
     ]
    }
   ],
   "source": [
    "# количество испытаний (подбрасываний монетки)\n",
    "n = 144\n",
    "\n",
    "# число наступления события (выпадений орла)\n",
    "k = 70\n",
    "\n",
    "# вероятность наступления события в независимых испытаниях (выпадения орла при одном подбрасывании)\n",
    "p = 0.5\n",
    "\n",
    "print('Вероятность того, что орел выпадет ровно 70 раз:', bernoulli(n, k, p))"
   ]
  },
  {
   "cell_type": "markdown",
   "metadata": {},
   "source": [
    "### 4. В первом ящике находится 10 мячей, из которых 7 - белые. Во втором ящике - 11 мячей, из которых 9 белых. Из каждого ящика вытаскивают случайным образом по два мяча. "
   ]
  },
  {
   "cell_type": "markdown",
   "metadata": {},
   "source": [
    "### Какова вероятность того, что все мячи белые?"
   ]
  },
  {
   "cell_type": "code",
   "execution_count": 7,
   "metadata": {},
   "outputs": [
    {
     "name": "stdout",
     "output_type": "stream",
     "text": [
      "Ответ: 0.3054545454545455\n"
     ]
    }
   ],
   "source": [
    "print('Ответ:', (combinations(7, 2)/combinations(10, 2))*(combinations(9, 2)/combinations(11, 2)))"
   ]
  },
  {
   "cell_type": "markdown",
   "metadata": {},
   "source": [
    "### Какова вероятность того, что ровно два мяча белые?"
   ]
  },
  {
   "cell_type": "markdown",
   "metadata": {},
   "source": [
    "Два мяча будут белыми при одном из следующих событий:\n",
    "1. Два белых мяча достали из первого ящика, а из второго мячи другого цвета;\n",
    "2. Два белых мяча достали из второго ящика, а из первого мячи другого цвета;\n",
    "3. Из первого ящика достали один белый мяч и один мяч другого цвета, из второго ящика также один белый и один другого цвета."
   ]
  },
  {
   "cell_type": "code",
   "execution_count": 8,
   "metadata": {},
   "outputs": [
    {
     "name": "stdout",
     "output_type": "stream",
     "text": [
      "Ответ: 0.20484848484848486\n"
     ]
    }
   ],
   "source": [
    "# два белых мяча из первого ящика\n",
    "p1 = (combinations(7, 2)/combinations(10, 2))*(combinations(2, 2)/combinations(11, 2))\n",
    "\n",
    "# два белых мяча из второго ящика\n",
    "p2 = (combinations(3, 2)/combinations(10, 2))*(combinations(9, 2)/combinations(11, 2))\n",
    "\n",
    "# по одному белому из каждого ящика\n",
    "p3 = ((combinations(7, 1)*combinations(3, 1))/combinations(10, 2))*((combinations(9, 1)*combinations(2, 1))/combinations(11, 2))\n",
    "\n",
    "# полная вероятность\n",
    "print('Ответ:', p1 + p2 + p3)"
   ]
  },
  {
   "cell_type": "markdown",
   "metadata": {},
   "source": [
    "### Какова вероятность того, что хотя бы один мяч белый?"
   ]
  },
  {
   "cell_type": "markdown",
   "metadata": {},
   "source": [
    "Вероятность не достать ни одного белого мяча:"
   ]
  },
  {
   "cell_type": "code",
   "execution_count": 10,
   "metadata": {},
   "outputs": [
    {
     "data": {
      "text/plain": [
       "0.0012121212121212121"
      ]
     },
     "execution_count": 10,
     "metadata": {},
     "output_type": "execute_result"
    }
   ],
   "source": [
    "(combinations(3, 2)/combinations(10, 2))*(combinations(2, 2)/combinations(11, 2))"
   ]
  },
  {
   "cell_type": "markdown",
   "metadata": {},
   "source": [
    "Вероятность достать хотя бы один белый мяч:"
   ]
  },
  {
   "cell_type": "code",
   "execution_count": 11,
   "metadata": {},
   "outputs": [
    {
     "name": "stdout",
     "output_type": "stream",
     "text": [
      "Ответ: 0.9987878787878788\n"
     ]
    }
   ],
   "source": [
    "print('Ответ:', 1 - (combinations(3, 2)/combinations(10, 2))*(combinations(2, 2)/combinations(11, 2)))"
   ]
  }
 ],
 "metadata": {
  "kernelspec": {
   "display_name": "Python 3",
   "language": "python",
   "name": "python3"
  },
  "language_info": {
   "codemirror_mode": {
    "name": "ipython",
    "version": 3
   },
   "file_extension": ".py",
   "mimetype": "text/x-python",
   "name": "python",
   "nbconvert_exporter": "python",
   "pygments_lexer": "ipython3",
   "version": "3.8.2"
  }
 },
 "nbformat": 4,
 "nbformat_minor": 4
}
