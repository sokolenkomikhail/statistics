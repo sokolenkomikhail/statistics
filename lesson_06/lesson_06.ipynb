{
 "cells": [
  {
   "cell_type": "code",
   "execution_count": 52,
   "metadata": {},
   "outputs": [],
   "source": [
    "import numpy as np\n",
    "import pandas as pd\n",
    "from scipy.stats import norm, t"
   ]
  },
  {
   "cell_type": "markdown",
   "metadata": {},
   "source": [
    "### 1) Даны значения величины заработной платы заемщиков банка (zp) и значения их поведенческого кредитного скоринга (ks): \n",
    "### zp = [35, 45, 190, 200, 40, 70, 54, 150, 120, 110],\n",
    "### ks = [401, 574, 874, 919, 459, 739, 653, 902, 746, 832].\n",
    "### Найдите ковариацию этих двух величин с помощью элементарных действий, а затем с помощью функции cov из numpy\n",
    "### Полученные значения должны быть равны.\n",
    "### Найдите коэффициент корреляции Пирсона с помощью ковариации и среднеквадратичных отклонений двух признаков, а затем с использованием функций из библиотек numpy и pandas."
   ]
  },
  {
   "cell_type": "code",
   "execution_count": 44,
   "metadata": {},
   "outputs": [],
   "source": [
    "zp = np.array([35, 45, 190, 200, 40, 70, 54, 150, 120, 110])\n",
    "ks = np.array([401, 574, 874, 919, 459, 739, 653, 902, 746, 832])"
   ]
  },
  {
   "cell_type": "markdown",
   "metadata": {},
   "source": [
    "Ковариация рассчитывается по формуле:\n",
    "$$ cov_{XY} = M(XY) - M(X)M(Y) $$"
   ]
  },
  {
   "cell_type": "code",
   "execution_count": 56,
   "metadata": {},
   "outputs": [
    {
     "data": {
      "text/plain": [
       "(9157.84, 9157.84)"
      ]
     },
     "execution_count": 56,
     "metadata": {},
     "output_type": "execute_result"
    }
   ],
   "source": [
    "cov = np.mean(zp*ks) - np.mean(zp)*np.mean(ks)\n",
    "cov = round(cov, 4)\n",
    "\n",
    "cov, np.cov(zp, ks, ddof=0)[0, 1]"
   ]
  },
  {
   "cell_type": "markdown",
   "metadata": {},
   "source": [
    "Коэффициент корреляции Пирсона:\n",
    "$$ r_{XY} = \\frac{cov_{XY}}{\\sigma_X*\\sigma_Y} $$"
   ]
  },
  {
   "cell_type": "code",
   "execution_count": 57,
   "metadata": {},
   "outputs": [],
   "source": [
    "# смещенная ковариация\n",
    "cov_0 = np.cov(zp, ks, ddof=0)[0, 1]\n",
    "# несмещенная ковариация\n",
    "cov_1 = np.cov(zp, ks, ddof=1)[0, 1]\n",
    "\n",
    "# смещенное среднее квадратичное отклонение zp\n",
    "sigma_zp_0 = np.std(zp, ddof=0)\n",
    "# несмещенное среднее квадратичное отклонение zp\n",
    "sigma_zp_1 = np.std(zp, ddof=1)\n",
    "\n",
    "# смещенное среднее квадратичное отклонение ks\n",
    "sigma_ks_0 = np.std(ks, ddof=0)\n",
    "# несмещенное среднее квадратичное отклонение ks\n",
    "sigma_ks_1 = np.std(ks, ddof=1)"
   ]
  },
  {
   "cell_type": "code",
   "execution_count": 60,
   "metadata": {},
   "outputs": [
    {
     "data": {
      "text/plain": [
       "(0.8874900920739162, 0.887490092073916)"
      ]
     },
     "execution_count": 60,
     "metadata": {},
     "output_type": "execute_result"
    }
   ],
   "source": [
    "# для смещенного и несмещенного\n",
    "cov_0/(sigma_zp_0*sigma_ks_0), cov_1/(sigma_zp_1*sigma_ks_1)"
   ]
  },
  {
   "cell_type": "code",
   "execution_count": 76,
   "metadata": {},
   "outputs": [
    {
     "data": {
      "text/plain": [
       "(0.8874900920739162, 0.8874900920739162)"
      ]
     },
     "execution_count": 76,
     "metadata": {},
     "output_type": "execute_result"
    }
   ],
   "source": [
    "# NumPy и Pandas\n",
    "np.corrcoef(zp, ks)[0, 1], pd.Series(zp).corr(pd.Series(ks))"
   ]
  },
  {
   "cell_type": "markdown",
   "metadata": {},
   "source": [
    "### 2) Измерены значения IQ выборки студентов, обучающихся в местных технических вузах:\n",
    "### 131, 125, 115, 122, 131, 115, 107, 99, 125, 111.\n",
    "### Известно, что в генеральной совокупности IQ распределен нормально.\n",
    "### Найдите доверительный интервал для математического ожидания с надежностью 0.95."
   ]
  },
  {
   "cell_type": "markdown",
   "metadata": {},
   "source": [
    "Среднее квадратичное отклонение генеральной совокупности неизвестно. Используется T-критерий Стьюдента"
   ]
  },
  {
   "cell_type": "markdown",
   "metadata": {},
   "source": [
    "$$ T_{1, 2} = \\overline{X} \\pm t_\\frac{\\alpha}{2} * \\frac{\\sigma}{\\sqrt{n}} $$"
   ]
  },
  {
   "cell_type": "code",
   "execution_count": 21,
   "metadata": {},
   "outputs": [],
   "source": [
    "a = np.array([131, 125, 115, 122, 131, 115, 107, 99, 125, 111])\n",
    "\n",
    "# среднее выборочное\n",
    "mean = a.mean()\n",
    "\n",
    "# среднее квадратичное отклонение (несмещенное)\n",
    "s = a.std(ddof=1)\n",
    "\n",
    "# размер выборки\n",
    "n = a.shape[0]\n",
    "\n",
    "# альфа\n",
    "alpha = 1 - 0.95\n",
    "\n",
    "student = t.ppf(1 - alpha/2, n-1)"
   ]
  },
  {
   "cell_type": "code",
   "execution_count": 22,
   "metadata": {},
   "outputs": [],
   "source": [
    "T1 = mean - student * (s/n**(1/2))\n",
    "T2 = mean + student * (s/n**(1/2))\n",
    "\n",
    "interval = [T1, T2]"
   ]
  },
  {
   "cell_type": "code",
   "execution_count": 23,
   "metadata": {},
   "outputs": [
    {
     "name": "stdout",
     "output_type": "stream",
     "text": [
      "Ответ: [110.55608365158724, 125.64391634841274]\n"
     ]
    }
   ],
   "source": [
    "print('Ответ:', interval)"
   ]
  },
  {
   "cell_type": "markdown",
   "metadata": {},
   "source": [
    "### 3) Известно, что рост футболистов в сборной распределен нормально с дисперсией генеральной совокупности, равной 25 кв.см. Объем выборки равен 27, среднее выборочное составляет 174.2. Найдите доверительный интервал для математического ожидания с надежностью 0.95."
   ]
  },
  {
   "cell_type": "markdown",
   "metadata": {},
   "source": [
    "Дисперсия генеральной совокупности известна. Используется z-критерий"
   ]
  },
  {
   "cell_type": "markdown",
   "metadata": {},
   "source": [
    "$$ \\overline{X} \\pm Z_\\frac{\\alpha}{2} * \\frac{\\sigma}{\\sqrt{n}} $$"
   ]
  },
  {
   "cell_type": "code",
   "execution_count": 27,
   "metadata": {},
   "outputs": [],
   "source": [
    "# дисперсия генеральной совокупности\n",
    "var = 25\n",
    "# стандартное отклонение\n",
    "std = var**(1/2)\n",
    "\n",
    "# размер выборки\n",
    "n = 27\n",
    "\n",
    "# среднее выборочное\n",
    "mean = 174.2\n",
    "\n",
    "# альфа\n",
    "alpha = 1 - 0.95\n",
    "\n",
    "z = norm.ppf(1 - alpha/2)"
   ]
  },
  {
   "cell_type": "code",
   "execution_count": 28,
   "metadata": {},
   "outputs": [],
   "source": [
    "l = mean - z * (s/n**(1/2))\n",
    "r = mean + z * (s/n**(1/2))\n",
    "\n",
    "interval = [l, r]"
   ]
  },
  {
   "cell_type": "code",
   "execution_count": 29,
   "metadata": {},
   "outputs": [
    {
     "name": "stdout",
     "output_type": "stream",
     "text": [
      "Ответ: [170.22222422220577, 178.1777757777942]\n"
     ]
    }
   ],
   "source": [
    "print('Ответ:', interval)"
   ]
  }
 ],
 "metadata": {
  "kernelspec": {
   "display_name": "Python 3",
   "language": "python",
   "name": "python3"
  },
  "language_info": {
   "codemirror_mode": {
    "name": "ipython",
    "version": 3
   },
   "file_extension": ".py",
   "mimetype": "text/x-python",
   "name": "python",
   "nbconvert_exporter": "python",
   "pygments_lexer": "ipython3",
   "version": "3.8.2"
  }
 },
 "nbformat": 4,
 "nbformat_minor": 4
}
