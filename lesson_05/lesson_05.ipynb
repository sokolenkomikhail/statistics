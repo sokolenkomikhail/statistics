{
 "cells": [
  {
   "cell_type": "code",
   "execution_count": 1,
   "metadata": {},
   "outputs": [],
   "source": [
    "import numpy as np\n",
    "from scipy.stats import norm"
   ]
  },
  {
   "cell_type": "markdown",
   "metadata": {},
   "source": [
    "### 1. Известно, что генеральная совокупность распределена нормально со средним квадратическим отклонением, равным 16. Найти доверительный интервал для оценки математического ожидания a с надежностью 0.95, если выборочная средняя M = 80, а объем выборки n = 256."
   ]
  },
  {
   "cell_type": "markdown",
   "metadata": {},
   "source": [
    "т.к. среднее квадратичное отклонение генеральной совокупности нам известно, то используем z критерий"
   ]
  },
  {
   "cell_type": "markdown",
   "metadata": {},
   "source": [
    "$$ \\overline{X} \\pm Z_\\frac{\\alpha}{2} * \\frac{\\sigma}{\\sqrt{n}} $$"
   ]
  },
  {
   "cell_type": "code",
   "execution_count": 2,
   "metadata": {},
   "outputs": [],
   "source": [
    "std = 16\n",
    "M = 80\n",
    "n = 256\n",
    "\n",
    "# табличное значение для alpha/2 (0.025)\n",
    "Z_025 = 1.96"
   ]
  },
  {
   "cell_type": "code",
   "execution_count": 3,
   "metadata": {},
   "outputs": [],
   "source": [
    "l = M - Z_025 * std/(n**(1/2))\n",
    "r = M + Z_025 * std/(n**(1/2))\n",
    "\n",
    "interval = (l, r)"
   ]
  },
  {
   "cell_type": "code",
   "execution_count": 4,
   "metadata": {},
   "outputs": [
    {
     "name": "stdout",
     "output_type": "stream",
     "text": [
      "Ответ: (78.04, 81.96)\n"
     ]
    }
   ],
   "source": [
    "print('Ответ:', interval)"
   ]
  },
  {
   "cell_type": "markdown",
   "metadata": {},
   "source": [
    "### 2. В результате 10 независимых измерений некоторой величины X, выполненных с одинаковой точностью, получены опытные данные: 6.9, 6.1, 6.2, 6.8, 7.5, 6.3, 6.4, 6.9, 6.7, 6.1 Предполагая, что результаты измерений подчинены нормальному закону распределения вероятностей, оценить истинное значение величины X при помощи доверительного интервала, покрывающего это значение с доверительной вероятностью 0,95."
   ]
  },
  {
   "cell_type": "markdown",
   "metadata": {},
   "source": [
    "т.к. среднее квадратичное отклонение генеральной совокупности нам неизвестно, то используем T-критерий Стьюдента"
   ]
  },
  {
   "cell_type": "markdown",
   "metadata": {},
   "source": [
    "$$ T_{1, 2} = \\overline{X} \\pm t_\\frac{\\alpha}{2} * \\frac{\\sigma}{\\sqrt{n}} $$"
   ]
  },
  {
   "cell_type": "code",
   "execution_count": 5,
   "metadata": {},
   "outputs": [],
   "source": [
    "x = np.array([6.9, 6.1, 6.2, 6.8, 7.5, 6.3, 6.4, 6.9, 6.7, 6.1])\n",
    "\n",
    "# среднее выборочное\n",
    "mean = x.mean()\n",
    "\n",
    "# стандартное отклонение\n",
    "std = x.std(ddof=1)\n",
    "\n",
    "# объем выборки\n",
    "n = x.shape[0]\n",
    "\n",
    "# t для доверительной вероятности 0.95 при n - 1 (9) степеней свободы\n",
    "t = 2.262"
   ]
  },
  {
   "cell_type": "code",
   "execution_count": 6,
   "metadata": {},
   "outputs": [],
   "source": [
    "T1 = mean - t * std/(n**(1/2))\n",
    "T2 = mean + t * std/(n**(1/2))\n",
    "\n",
    "interval = (T1, T2)"
   ]
  },
  {
   "cell_type": "code",
   "execution_count": 7,
   "metadata": {},
   "outputs": [
    {
     "name": "stdout",
     "output_type": "stream",
     "text": [
      "Ответ: \n",
      "Интервал (6.267538255912426, 6.912461744087575) с доверительной вероятностью 0.95 \n",
      "покрывает истинное значение величины X\n"
     ]
    }
   ],
   "source": [
    "print(f'Ответ: \\nИнтервал {interval} с доверительной вероятностью 0.95 \\nпокрывает истинное значение величины X')"
   ]
  },
  {
   "cell_type": "markdown",
   "metadata": {},
   "source": [
    "### 3. Утверждается, что шарики для подшипников, изготовленные автоматическим станком, имеют средний диаметр 17 мм. Используя односторонний критерий с α=0,05, проверить эту гипотезу, если в выборке из n=100 шариков средний диаметр оказался равным 17.5 мм, а дисперсия известна и равна 4 кв.мм."
   ]
  },
  {
   "cell_type": "markdown",
   "metadata": {},
   "source": [
    "В качестве нулевой гипотезы рассматриваем, что средний диаметр равен 17\n",
    "$$ H_0: d = 17, \\mu = \\mu_0 $$\n",
    "\n",
    "В качестве альтернативной гипотезы рассматриваем, что средний диаметр равен 17.5\n",
    "$$ H_1: d = 17.5, \\mu > \\mu_0 $$"
   ]
  },
  {
   "cell_type": "markdown",
   "metadata": {},
   "source": [
    "Критерий Z-тест"
   ]
  },
  {
   "cell_type": "markdown",
   "metadata": {},
   "source": [
    "$$ Z_H = \\frac{\\overline{X} - \\mu_0}{\\frac{\\sigma}{\\sqrt{n}}} $$"
   ]
  },
  {
   "cell_type": "markdown",
   "metadata": {},
   "source": [
    "$ \\alpha = 0.05 $"
   ]
  },
  {
   "cell_type": "code",
   "execution_count": 8,
   "metadata": {},
   "outputs": [],
   "source": [
    "# основная гипотеза - средний диаметр равен 17\n",
    "mean_0 = 17\n",
    "# альтернативная гипотеза - средний диаметр равен 17.5\n",
    "X = 17.5\n",
    "\n",
    "# дисперсия генеральной совокупности\n",
    "var = 4\n",
    "# стандартное отклонение\n",
    "std = var**(1/2)\n",
    "\n",
    "alpha = 0.05\n",
    "\n",
    "# объем выборки\n",
    "n = 100"
   ]
  },
  {
   "cell_type": "code",
   "execution_count": 10,
   "metadata": {},
   "outputs": [
    {
     "data": {
      "text/plain": [
       "0.006209665325776159"
      ]
     },
     "execution_count": 10,
     "metadata": {},
     "output_type": "execute_result"
    }
   ],
   "source": [
    "ZH = (X - mean_0)/(std/n**(1/2))\n",
    "\n",
    "alpha = 0.05\n",
    "\n",
    "# Z для alpha = 0.05\n",
    "Z = 1.645\n",
    "\n",
    "# P-значение\n",
    "p_val = 1 - norm.cdf(ZH)\n",
    "\n",
    "p_val"
   ]
  },
  {
   "cell_type": "code",
   "execution_count": 11,
   "metadata": {},
   "outputs": [
    {
     "data": {
      "text/plain": [
       "(False, True)"
      ]
     },
     "execution_count": 11,
     "metadata": {},
     "output_type": "execute_result"
    }
   ],
   "source": [
    "p_val > alpha, p_val < alpha"
   ]
  },
  {
   "cell_type": "markdown",
   "metadata": {},
   "source": [
    "### Вывод:"
   ]
  },
  {
   "cell_type": "markdown",
   "metadata": {},
   "source": [
    "P-значение меньше $ \\alpha $ => нулевая гипотеза отвергается"
   ]
  },
  {
   "cell_type": "markdown",
   "metadata": {},
   "source": [
    "### 4. Продавец утверждает, что средний вес пачки печенья составляет 200 г. Из партии извлечена выборка из 10 пачек. Вес каждой пачки составляет: 202, 203, 199, 197, 195, 201, 200, 204, 194, 190. Известно, что их веса распределены нормально. Верно ли утверждение продавца, если учитывать, что доверительная вероятность равна 99%?"
   ]
  },
  {
   "cell_type": "markdown",
   "metadata": {},
   "source": [
    "В качестве нулевой гипотезы рассматриваем, что средний вес равен заявленному\n",
    "$$ H_0: \\mu = \\mu_0 $$\n",
    "\n",
    "В качестве альтернативной гипотезы рассматриваем, что средний вес отличается от заявленного\n",
    "$$ H_1: \\mu \\ne \\mu_0 $$"
   ]
  },
  {
   "cell_type": "markdown",
   "metadata": {},
   "source": [
    "Среднее квадратичное отклонение генеральной совокупности не известно. Используем T-критерий Стьюдента"
   ]
  },
  {
   "cell_type": "markdown",
   "metadata": {},
   "source": [
    "$$ T_{1, 2} = \\overline{X} \\pm t_\\frac{\\alpha}{2} * \\frac{\\sigma}{\\sqrt{n}} $$"
   ]
  },
  {
   "cell_type": "markdown",
   "metadata": {},
   "source": [
    "Уровень значимости $ \\alpha = 1 - 0.99 = 0.01 $"
   ]
  },
  {
   "cell_type": "code",
   "execution_count": 12,
   "metadata": {},
   "outputs": [],
   "source": [
    "# Среднее. Нулевая гипотеза\n",
    "mean = 200\n",
    "\n",
    "# выборка\n",
    "a = np.array([202, 203, 199, 197, 195, 201, 200, 204, 194, 190])\n",
    "\n",
    "# среднее выборочное\n",
    "mean_a = a.mean()\n",
    "\n",
    "# размер выборки\n",
    "n = a.shape[0]\n",
    "\n",
    "# среднее квадратичное по выборке (несмещенное)\n",
    "s = a.std(ddof=1)\n",
    "\n",
    "# значение t для уровня значимости 0.01 при числе степеней свободы n - 1 = 9\n",
    "t = 3.250"
   ]
  },
  {
   "cell_type": "code",
   "execution_count": 13,
   "metadata": {},
   "outputs": [
    {
     "data": {
      "text/plain": [
       "(195.4229967955732, 204.5770032044268)"
      ]
     },
     "execution_count": 13,
     "metadata": {},
     "output_type": "execute_result"
    }
   ],
   "source": [
    "# нижняя граница\n",
    "T1 = mean - t*s/n**(1/2)\n",
    "\n",
    "# верхняя граница\n",
    "T2 = mean + t*s/n**(1/2)\n",
    "\n",
    "T1, T2"
   ]
  },
  {
   "cell_type": "code",
   "execution_count": 14,
   "metadata": {},
   "outputs": [
    {
     "data": {
      "text/plain": [
       "True"
      ]
     },
     "execution_count": 14,
     "metadata": {},
     "output_type": "execute_result"
    }
   ],
   "source": [
    "T1 < mean < T2"
   ]
  },
  {
   "cell_type": "markdown",
   "metadata": {},
   "source": [
    "### Вывод:"
   ]
  },
  {
   "cell_type": "markdown",
   "metadata": {},
   "source": [
    "Доверительный интервал для уровня значимости 0.01 покрывает значение среднего => Нулевая гипотеза о равенстве среднего 200 - принимается"
   ]
  }
 ],
 "metadata": {
  "kernelspec": {
   "display_name": "Python 3",
   "language": "python",
   "name": "python3"
  },
  "language_info": {
   "codemirror_mode": {
    "name": "ipython",
    "version": 3
   },
   "file_extension": ".py",
   "mimetype": "text/x-python",
   "name": "python",
   "nbconvert_exporter": "python",
   "pygments_lexer": "ipython3",
   "version": "3.8.2"
  }
 },
 "nbformat": 4,
 "nbformat_minor": 4
}
